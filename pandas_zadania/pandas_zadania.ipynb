{
  "nbformat": 4,
  "nbformat_minor": 0,
  "metadata": {
    "colab": {
      "name": "Copy of pandas_intro.ipynb",
      "provenance": [],
      "collapsed_sections": []
    },
    "kernelspec": {
      "name": "python3",
      "display_name": "Python 3"
    }
  },
  "cells": [
    {
      "cell_type": "markdown",
      "metadata": {
        "id": "frk6_1wqYjAG"
      },
      "source": [
        "# **Wprowadzenie do analizy danych przy pomocy pakietu Pandas**"
      ]
    },
    {
      "cell_type": "markdown",
      "metadata": {
        "id": "MgV45XArYnZD"
      },
      "source": [
        "W tym zadaniu spróbujesz wykorzystać pakiet Pythona o nazwie Pandas do odczytu i analizy prostego zbioru danych.\n",
        "\n",
        "Materiały pomocnicze możesz znaleźć np. na stronie: https://intertechacademy.pl/2020/08/machine-learning-w-pythonie-szybki-start/\n",
        "\n",
        "**Uwaga! Niektóre komórki z kodem zawierają przykładowe wyniki jakie powinno udać Ci się uzyskać. Wyniki te zostaną utracone gdy uruchomisz kod z komórki.**"
      ]
    },
    {
      "cell_type": "markdown",
      "metadata": {
        "id": "_J1krVo0Y_nk"
      },
      "source": [
        "## **Import modułów Pythona**\n",
        "Oprócz modułów numpy i pyplot, z których korzystaliśmy w poprzednim ćwiczeniu tym razem poznasz dwa nowe moduły. Pierwszy z nich to właśnie pandas, który ułatwia pracę na zbiorach danych w postaci tabelarycznej, a drugi to sklearn.datasets z pakietu Scikit-Learn. Moduł ten zawiera kilka wbudowanych zbiorów danych, z których będziemy korzystać."
      ]
    },
    {
      "cell_type": "code",
      "metadata": {
        "id": "TLvivncKYml6"
      },
      "source": [
        "import pandas as pd\n",
        "import sklearn.datasets\n",
        "\n",
        "import numpy as np\n",
        "import matplotlib.pyplot as plt"
      ],
      "execution_count": null,
      "outputs": []
    },
    {
      "cell_type": "markdown",
      "metadata": {
        "id": "KS2hKfSeZ2OX"
      },
      "source": [
        "## **Wczytanie danych**\n",
        "Za pomocą modułu sklearn.datasets odczytaj zbiór danych California Housing. Następnie przetwórz to obiektu klasy DataFrame z pakietu Pandas. Służy do tego poniższy kod:\n"
      ]
    },
    {
      "cell_type": "code",
      "metadata": {
        "id": "NIKFg7EoZ1xz",
        "colab": {
          "base_uri": "https://localhost:8080/",
          "height": 204
        },
        "outputId": "03e9a9c9-ed13-4083-9599-cb266e63a115"
      },
      "source": [
        "dataset = sklearn.datasets.fetch_california_housing()\n",
        "df = pd.DataFrame.from_dict(data = dict(zip(dataset['feature_names'], dataset['data'].T)))\n",
        "df.head()"
      ],
      "execution_count": null,
      "outputs": [
        {
          "output_type": "execute_result",
          "data": {
            "text/html": [
              "<div>\n",
              "<style scoped>\n",
              "    .dataframe tbody tr th:only-of-type {\n",
              "        vertical-align: middle;\n",
              "    }\n",
              "\n",
              "    .dataframe tbody tr th {\n",
              "        vertical-align: top;\n",
              "    }\n",
              "\n",
              "    .dataframe thead th {\n",
              "        text-align: right;\n",
              "    }\n",
              "</style>\n",
              "<table border=\"1\" class=\"dataframe\">\n",
              "  <thead>\n",
              "    <tr style=\"text-align: right;\">\n",
              "      <th></th>\n",
              "      <th>MedInc</th>\n",
              "      <th>HouseAge</th>\n",
              "      <th>AveRooms</th>\n",
              "      <th>AveBedrms</th>\n",
              "      <th>Population</th>\n",
              "      <th>AveOccup</th>\n",
              "      <th>Latitude</th>\n",
              "      <th>Longitude</th>\n",
              "    </tr>\n",
              "  </thead>\n",
              "  <tbody>\n",
              "    <tr>\n",
              "      <th>0</th>\n",
              "      <td>8.3252</td>\n",
              "      <td>41.0</td>\n",
              "      <td>6.984127</td>\n",
              "      <td>1.023810</td>\n",
              "      <td>322.0</td>\n",
              "      <td>2.555556</td>\n",
              "      <td>37.88</td>\n",
              "      <td>-122.23</td>\n",
              "    </tr>\n",
              "    <tr>\n",
              "      <th>1</th>\n",
              "      <td>8.3014</td>\n",
              "      <td>21.0</td>\n",
              "      <td>6.238137</td>\n",
              "      <td>0.971880</td>\n",
              "      <td>2401.0</td>\n",
              "      <td>2.109842</td>\n",
              "      <td>37.86</td>\n",
              "      <td>-122.22</td>\n",
              "    </tr>\n",
              "    <tr>\n",
              "      <th>2</th>\n",
              "      <td>7.2574</td>\n",
              "      <td>52.0</td>\n",
              "      <td>8.288136</td>\n",
              "      <td>1.073446</td>\n",
              "      <td>496.0</td>\n",
              "      <td>2.802260</td>\n",
              "      <td>37.85</td>\n",
              "      <td>-122.24</td>\n",
              "    </tr>\n",
              "    <tr>\n",
              "      <th>3</th>\n",
              "      <td>5.6431</td>\n",
              "      <td>52.0</td>\n",
              "      <td>5.817352</td>\n",
              "      <td>1.073059</td>\n",
              "      <td>558.0</td>\n",
              "      <td>2.547945</td>\n",
              "      <td>37.85</td>\n",
              "      <td>-122.25</td>\n",
              "    </tr>\n",
              "    <tr>\n",
              "      <th>4</th>\n",
              "      <td>3.8462</td>\n",
              "      <td>52.0</td>\n",
              "      <td>6.281853</td>\n",
              "      <td>1.081081</td>\n",
              "      <td>565.0</td>\n",
              "      <td>2.181467</td>\n",
              "      <td>37.85</td>\n",
              "      <td>-122.25</td>\n",
              "    </tr>\n",
              "  </tbody>\n",
              "</table>\n",
              "</div>"
            ],
            "text/plain": [
              "   MedInc  HouseAge  AveRooms  ...  AveOccup  Latitude  Longitude\n",
              "0  8.3252      41.0  6.984127  ...  2.555556     37.88    -122.23\n",
              "1  8.3014      21.0  6.238137  ...  2.109842     37.86    -122.22\n",
              "2  7.2574      52.0  8.288136  ...  2.802260     37.85    -122.24\n",
              "3  5.6431      52.0  5.817352  ...  2.547945     37.85    -122.25\n",
              "4  3.8462      52.0  6.281853  ...  2.181467     37.85    -122.25\n",
              "\n",
              "[5 rows x 8 columns]"
            ]
          },
          "metadata": {
            "tags": []
          },
          "execution_count": 6
        }
      ]
    },
    {
      "cell_type": "markdown",
      "metadata": {
        "id": "S806pEebc7Qa"
      },
      "source": [
        "## **Zadanie 1**\n",
        "Zbiór California Housing zawiera dane o nieruchomościach w różnych lokalizacjach w Kalifornii. Napisz program, który na podstawie tych danych obliczy i wyświetli wartość średnią oraz odchylenie standardowe mediany dochodów (kolumna MedInc) w każdej z tych lokalizacji."
      ]
    },
    {
      "cell_type": "code",
      "metadata": {
        "id": "OPYICyJyc1n1",
        "colab": {
          "base_uri": "https://localhost:8080/"
        },
        "outputId": "af2b6fdd-edbc-4783-9998-e42cb2d07fb6"
      },
      "source": [
        "#Konwersja do ndarray\n",
        "data = df.to_numpy()\n",
        "\n",
        "#Funkcja licząca średnią\n",
        "def Average(lst):\n",
        "  return sum(lst) / len(lst)\n",
        "\n",
        "#Tworzenie listy zawierającej mediany\n",
        "medlist = [data[0,0], data[1,0],data[2,0],data[3,0],data[4,0]]\n",
        "\n",
        "#Wyswietlenie sredniej\n",
        "avg = Average(medlist)\n",
        "print('Średnia wartości mediany dochodów = ', avg)\n",
        "\n",
        "#wyswietlenie odchylenia\n",
        "stdev = np.std(medlist)\n",
        "print('Odchylenie standardowe mediany dochodów = ', stdev)\n",
        "\n",
        "\n",
        "#Średnia wartości mediany dochodów=3.8706710029070246\n",
        "#Odchylenie standardowe mediany dochodów=1.8998217179452732"
      ],
      "execution_count": null,
      "outputs": [
        {
          "output_type": "stream",
          "text": [
            "Średnia wartości mediany dochodów =  6.67466\n",
            "Odchylenie standardowe mediany dochodów =  1.718979536352891\n"
          ],
          "name": "stdout"
        }
      ]
    },
    {
      "cell_type": "markdown",
      "metadata": {
        "id": "s4CAAD_FtjxH"
      },
      "source": [
        "## **Zadanie 2**\n",
        "Dodaj do obiektu df kolumnę z cenami mieszkań."
      ]
    },
    {
      "cell_type": "code",
      "metadata": {
        "id": "F5wAPypcrNO7",
        "colab": {
          "base_uri": "https://localhost:8080/",
          "height": 204
        },
        "outputId": "4e288d46-5790-4675-bb97-5b97fa729cc2"
      },
      "source": [
        "df['Price'] = dataset.target\n",
        "df.head()"
      ],
      "execution_count": null,
      "outputs": [
        {
          "output_type": "execute_result",
          "data": {
            "text/html": [
              "<div>\n",
              "<style scoped>\n",
              "    .dataframe tbody tr th:only-of-type {\n",
              "        vertical-align: middle;\n",
              "    }\n",
              "\n",
              "    .dataframe tbody tr th {\n",
              "        vertical-align: top;\n",
              "    }\n",
              "\n",
              "    .dataframe thead th {\n",
              "        text-align: right;\n",
              "    }\n",
              "</style>\n",
              "<table border=\"1\" class=\"dataframe\">\n",
              "  <thead>\n",
              "    <tr style=\"text-align: right;\">\n",
              "      <th></th>\n",
              "      <th>MedInc</th>\n",
              "      <th>HouseAge</th>\n",
              "      <th>AveRooms</th>\n",
              "      <th>AveBedrms</th>\n",
              "      <th>Population</th>\n",
              "      <th>AveOccup</th>\n",
              "      <th>Latitude</th>\n",
              "      <th>Longitude</th>\n",
              "      <th>Price</th>\n",
              "    </tr>\n",
              "  </thead>\n",
              "  <tbody>\n",
              "    <tr>\n",
              "      <th>0</th>\n",
              "      <td>8.3252</td>\n",
              "      <td>41.0</td>\n",
              "      <td>6.984127</td>\n",
              "      <td>1.023810</td>\n",
              "      <td>322.0</td>\n",
              "      <td>2.555556</td>\n",
              "      <td>37.88</td>\n",
              "      <td>-122.23</td>\n",
              "      <td>4.526</td>\n",
              "    </tr>\n",
              "    <tr>\n",
              "      <th>1</th>\n",
              "      <td>8.3014</td>\n",
              "      <td>21.0</td>\n",
              "      <td>6.238137</td>\n",
              "      <td>0.971880</td>\n",
              "      <td>2401.0</td>\n",
              "      <td>2.109842</td>\n",
              "      <td>37.86</td>\n",
              "      <td>-122.22</td>\n",
              "      <td>3.585</td>\n",
              "    </tr>\n",
              "    <tr>\n",
              "      <th>2</th>\n",
              "      <td>7.2574</td>\n",
              "      <td>52.0</td>\n",
              "      <td>8.288136</td>\n",
              "      <td>1.073446</td>\n",
              "      <td>496.0</td>\n",
              "      <td>2.802260</td>\n",
              "      <td>37.85</td>\n",
              "      <td>-122.24</td>\n",
              "      <td>3.521</td>\n",
              "    </tr>\n",
              "    <tr>\n",
              "      <th>3</th>\n",
              "      <td>5.6431</td>\n",
              "      <td>52.0</td>\n",
              "      <td>5.817352</td>\n",
              "      <td>1.073059</td>\n",
              "      <td>558.0</td>\n",
              "      <td>2.547945</td>\n",
              "      <td>37.85</td>\n",
              "      <td>-122.25</td>\n",
              "      <td>3.413</td>\n",
              "    </tr>\n",
              "    <tr>\n",
              "      <th>4</th>\n",
              "      <td>3.8462</td>\n",
              "      <td>52.0</td>\n",
              "      <td>6.281853</td>\n",
              "      <td>1.081081</td>\n",
              "      <td>565.0</td>\n",
              "      <td>2.181467</td>\n",
              "      <td>37.85</td>\n",
              "      <td>-122.25</td>\n",
              "      <td>3.422</td>\n",
              "    </tr>\n",
              "  </tbody>\n",
              "</table>\n",
              "</div>"
            ],
            "text/plain": [
              "   MedInc  HouseAge  AveRooms  AveBedrms  ...  AveOccup  Latitude  Longitude  Price\n",
              "0  8.3252      41.0  6.984127   1.023810  ...  2.555556     37.88    -122.23  4.526\n",
              "1  8.3014      21.0  6.238137   0.971880  ...  2.109842     37.86    -122.22  3.585\n",
              "2  7.2574      52.0  8.288136   1.073446  ...  2.802260     37.85    -122.24  3.521\n",
              "3  5.6431      52.0  5.817352   1.073059  ...  2.547945     37.85    -122.25  3.413\n",
              "4  3.8462      52.0  6.281853   1.081081  ...  2.181467     37.85    -122.25  3.422\n",
              "\n",
              "[5 rows x 9 columns]"
            ]
          },
          "metadata": {
            "tags": []
          },
          "execution_count": 27
        }
      ]
    },
    {
      "cell_type": "markdown",
      "metadata": {
        "id": "zJzvfPWVt7Mi"
      },
      "source": [
        "## **Zadanie 3**\n",
        "Narysuj mapę, która za pomocą kolorów pokaże ceny mieszkań w konkretnych lokalizacjach. Na osi poziomej umieść długość geograficzną (Longitude), a na pionowej szerokość geograficzną (Latitude)."
      ]
    },
    {
      "cell_type": "code",
      "metadata": {
        "id": "Sofg_U7st4Ii",
        "colab": {
          "base_uri": "https://localhost:8080/",
          "height": 273
        },
        "outputId": "3af44ebf-1916-46ea-9c72-8de7ca2fd3e2"
      },
      "source": [
        "df.plot.scatter(x=\"Longitude\", y=\"Latitude\", c='Price',colormap = 'rainbow')"
      ],
      "execution_count": null,
      "outputs": [
        {
          "output_type": "execute_result",
          "data": {
            "text/plain": [
              "<matplotlib.axes._subplots.AxesSubplot at 0x7f787c4c17f0>"
            ]
          },
          "metadata": {
            "tags": []
          },
          "execution_count": 44
        },
        {
          "output_type": "display_data",
          "data": {
            "image/png": "[encoded data removed]",
            "text/plain": [
              "<Figure size 432x288 with 2 Axes>"
            ]
          },
          "metadata": {
            "tags": [],
            "needs_background": "light"
          }
        }
      ]
    },
    {
      "cell_type": "markdown",
      "metadata": {
        "id": "Js8cCUtNuWaj"
      },
      "source": [
        "## **Zadanie 4**\n",
        "Oblicz macierz korelacji pomiędzy wszystkimi kolumnami z tabeli df wyłączywszy kolumny Latitude i Longitude. Następnie wybierz dwie najsilniej skorelowane kolumny (wartość bezwzględna ze współczynnika korelacji powinna być jak najbliższa jedynce) i wygeneruj wykres punktowy, w którym wartości z jednej kolumny znajdą się na osi X, a z drugiej na osi Y. \n",
        "\n",
        "**Uwaga! Przykładowy wynik pokazuje niewłaściwe wybrane kolumny. Samodzielnie wybierz najsilniej skorelowane zmienne.**"
      ]
    },
    {
      "cell_type": "code",
      "metadata": {
        "id": "Kibuoi1IuRXM",
        "colab": {
          "base_uri": "https://localhost:8080/",
          "height": 432
        },
        "outputId": "6ce7b9a3-a79e-4e8b-cb58-9bb4cb2bb697"
      },
      "source": [
        "#Usunięcie zbędnych kolumn\n",
        "#df.drop('Longitude', axis=1, inplace=True)\n",
        "#df.drop('Latitude', axis=1, inplace=True)\n",
        "#df.drop('AveBedrms', axis=1,inplace=True)\n",
        "\n",
        "#Wyświetlenie macierzy korelacji:\n",
        "print('Macierz korelacji:')\n",
        "print(df.corr(method ='pearson')) \n",
        "\n",
        "#Wyświetlenie wykresu punktowego\n",
        "print(df.plot.scatter('AveRooms','Population'))"
      ],
      "execution_count": null,
      "outputs": [
        {
          "output_type": "stream",
          "text": [
            "Macierz korelacji:\n",
            "              MedInc  HouseAge  AveRooms  Population  AveOccup     Price\n",
            "MedInc      1.000000 -0.119034  0.326895    0.004834  0.018766  0.688075\n",
            "HouseAge   -0.119034  1.000000 -0.153277   -0.296244  0.013191  0.105623\n",
            "AveRooms    0.326895 -0.153277  1.000000   -0.072213 -0.004852  0.151948\n",
            "Population  0.004834 -0.296244 -0.072213    1.000000  0.069863 -0.024650\n",
            "AveOccup    0.018766  0.013191 -0.004852    0.069863  1.000000 -0.023737\n",
            "Price       0.688075  0.105623  0.151948   -0.024650 -0.023737  1.000000\n",
            "AxesSubplot(0.125,0.125;0.775x0.755)\n"
          ],
          "name": "stdout"
        },
        {
          "output_type": "display_data",
          "data": {
            "image/png": "[encoded data removed]",
            "text/plain": [
              "<Figure size 432x288 with 1 Axes>"
            ]
          },
          "metadata": {
            "tags": [],
            "needs_background": "light"
          }
        }
      ]
    },
    {
      "cell_type": "code",
      "metadata": {
        "id": "-yZbXTgtytfF"
      },
      "source": [
        ""
      ],
      "execution_count": null,
      "outputs": []
    }
  ]
}